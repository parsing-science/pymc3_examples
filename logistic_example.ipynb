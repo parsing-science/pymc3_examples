{
 "cells": [
  {
   "cell_type": "markdown",
   "metadata": {},
   "source": [
    "Adapted from: https://github.com/pymc-devs/pymc3/blob/master/pymc3/examples/logistic.py"
   ]
  },
  {
   "cell_type": "code",
   "execution_count": 1,
   "metadata": {
    "collapsed": false
   },
   "outputs": [
    {
     "name": "stdout",
     "output_type": "stream",
     "text": [
      "Populating the interactive namespace from numpy and matplotlib\n"
     ]
    }
   ],
   "source": [
    "%pylab --no-import-all inline\n",
    "\n",
    "from pymc3 import *\n",
    "import theano.tensor as T\n",
    "from numpy import random, sum as nsum, ones, concatenate, newaxis, dot, arange\n",
    "import numpy as np"
   ]
  },
  {
   "cell_type": "code",
   "execution_count": 2,
   "metadata": {
    "collapsed": true
   },
   "outputs": [],
   "source": [
    "def invlogit(x):\n",
    "    return np.exp(x) / (1 + np.exp(x))"
   ]
  },
  {
   "cell_type": "code",
   "execution_count": 3,
   "metadata": {
    "collapsed": true
   },
   "outputs": [],
   "source": [
    "def tinvlogit(x):\n",
    "    return T.exp(x) / (1 + T.exp(x))"
   ]
  },
  {
   "cell_type": "markdown",
   "metadata": {},
   "source": [
    "Basic Logistic Regression\n",
    "==="
   ]
  },
  {
   "cell_type": "code",
   "execution_count": 53,
   "metadata": {
    "collapsed": true
   },
   "outputs": [],
   "source": [
    "# Set up basic parameters\n",
    "num_features = 7\n",
    "n = 100000"
   ]
  },
  {
   "cell_type": "code",
   "execution_count": 54,
   "metadata": {
    "collapsed": true
   },
   "outputs": [],
   "source": [
    "# Choose random values for the actual alpha and betas\n",
    "alpha_a = random.normal(size=1)\n",
    "\n",
    "betas_a = random.normal(size = num_features)\n",
    "\n",
    "# Create fake predictor data\n",
    "predictors = random.normal(size=(n, num_features))"
   ]
  },
  {
   "cell_type": "code",
   "execution_count": 55,
   "metadata": {
    "collapsed": false
   },
   "outputs": [],
   "source": [
    "# Calculate the outcomes\n",
    "outcomes = random.binomial(1, invlogit(alpha_a + np.sum(betas_a[None, :] * predictors, 1)))"
   ]
  },
  {
   "cell_type": "code",
   "execution_count": 56,
   "metadata": {
    "collapsed": false
   },
   "outputs": [
    {
     "name": "stdout",
     "output_type": "stream",
     "text": [
      "(1,)\n",
      "(1, 7)\n",
      "(100000, 7)\n"
     ]
    }
   ],
   "source": [
    "model = Model()\n",
    "\n",
    "with model:\n",
    "    alpha = Normal(b'alpha', mu=0, tau=2.**-2, shape=(1))\n",
    "    betas = Normal(b'betas', mu=0, tau=2. ** -2, shape=(1, num_features))\n",
    "    \n",
    "    p = tinvlogit(alpha+sum(betas * predictors, 1))\n",
    "\n",
    "    o = Bernoulli(b'o', p, observed=outcomes)"
   ]
  },
  {
   "cell_type": "code",
   "execution_count": 57,
   "metadata": {
    "collapsed": false
   },
   "outputs": [
    {
     "name": "stdout",
     "output_type": "stream",
     "text": [
      "Iteration 0 [0%]: ELBO = -183969.24\n",
      "Iteration 1000 [10%]: ELBO = nan\n",
      "Iteration 2000 [20%]: ELBO = nan\n",
      "Iteration 3000 [30%]: ELBO = nan\n",
      "Iteration 4000 [40%]: ELBO = nan\n",
      "Iteration 5000 [50%]: ELBO = nan\n",
      "Iteration 6000 [60%]: ELBO = nan\n",
      "Iteration 7000 [70%]: ELBO = nan\n",
      "Iteration 8000 [80%]: ELBO = nan\n",
      "Iteration 9000 [90%]: ELBO = nan\n",
      "Finished [100%]: ELBO = nan\n"
     ]
    }
   ],
   "source": [
    "with model:\n",
    "    mu, sds, elbo = variational.advi(n=10000)"
   ]
  },
  {
   "cell_type": "code",
   "execution_count": 52,
   "metadata": {
    "collapsed": false
   },
   "outputs": [
    {
     "data": {
      "text/plain": [
       "[<matplotlib.lines.Line2D at 0x7f232fc227d0>]"
      ]
     },
     "execution_count": 52,
     "metadata": {},
     "output_type": "execute_result"
    },
    {
     "data": {
      "image/png": "[encoded data removed]",
      "text/plain": [
       "<matplotlib.figure.Figure at 0x7f2330765910>"
      ]
     },
     "metadata": {},
     "output_type": "display_data"
    }
   ],
   "source": [
    "plt.plot(elbo[0:])"
   ]
  },
  {
   "cell_type": "code",
   "execution_count": null,
   "metadata": {
    "collapsed": false
   },
   "outputs": [],
   "source": [
    "with model:\n",
    "    # move the chain to the MAP which should be a good starting point\n",
    "    #start = find_MAP()\n",
    "    #step = NUTS()\n",
    "\n",
    "    #trace = sample(3e3, step, start)\n",
    "    \n",
    "    step = NUTS()\n",
    "\n",
    "    trace = sample(4e3, step)\n"
   ]
  },
  {
   "cell_type": "code",
   "execution_count": null,
   "metadata": {
    "collapsed": false
   },
   "outputs": [],
   "source": [
    "traceplot(trace)"
   ]
  },
  {
   "cell_type": "code",
   "execution_count": null,
   "metadata": {
    "collapsed": false
   },
   "outputs": [],
   "source": [
    "summary(trace)"
   ]
  },
  {
   "cell_type": "code",
   "execution_count": null,
   "metadata": {
    "collapsed": false
   },
   "outputs": [],
   "source": [
    "alpha_a"
   ]
  },
  {
   "cell_type": "code",
   "execution_count": null,
   "metadata": {
    "collapsed": false
   },
   "outputs": [],
   "source": [
    "betas_a"
   ]
  },
  {
   "cell_type": "markdown",
   "metadata": {},
   "source": [
    "Hierachical Logistic Regression\n",
    "==="
   ]
  },
  {
   "cell_type": "code",
   "execution_count": null,
   "metadata": {
    "collapsed": false
   },
   "outputs": [],
   "source": [
    "# Set up basic parameters\n",
    "num_markets = 4\n",
    "\n",
    "# Need lots of data to converge\n",
    "num_per_market = 15000\n",
    "num_observed = num_per_market * num_markets\n",
    "num_features = 5"
   ]
  },
  {
   "cell_type": "code",
   "execution_count": null,
   "metadata": {
    "collapsed": false
   },
   "outputs": [],
   "source": [
    "# Set up markets\n",
    "market = concatenate([[i] * num_per_market for i in range(num_markets)])"
   ]
  },
  {
   "cell_type": "code",
   "execution_count": null,
   "metadata": {
    "collapsed": false
   },
   "outputs": [],
   "source": [
    "market"
   ]
  },
  {
   "cell_type": "code",
   "execution_count": null,
   "metadata": {
    "collapsed": false
   },
   "outputs": [],
   "source": [
    "# Simulate the features\n",
    "predictors = np.random.normal(size=(num_observed, num_features))"
   ]
  },
  {
   "cell_type": "code",
   "execution_count": null,
   "metadata": {
    "collapsed": false
   },
   "outputs": [],
   "source": [
    "alpha_a = np.random.normal(size=(num_markets))\n",
    "beta_a = np.random.normal(size=(num_markets, num_features))"
   ]
  },
  {
   "cell_type": "code",
   "execution_count": null,
   "metadata": {
    "collapsed": false
   },
   "outputs": [],
   "source": [
    "# Calculate the actual data\n",
    "p = alpha_a[market] + nsum(beta_a[market] * predictors, 1)\n",
    "\n",
    "#p = nsum(beta_a[market] * predictors, 1)"
   ]
  },
  {
   "cell_type": "code",
   "execution_count": null,
   "metadata": {
    "collapsed": false
   },
   "outputs": [],
   "source": [
    "# Calculate the outcomes\n",
    "outcomes = np.random.binomial(1, invlogit(p))"
   ]
  },
  {
   "cell_type": "code",
   "execution_count": null,
   "metadata": {
    "collapsed": false
   },
   "outputs": [],
   "source": [
    "model = Model()\n",
    "\n",
    "with model:\n",
    "    # Both alpha and beta are drawn for the same distributions\n",
    "    mu_alpha = Normal(b\"mu_alpha\", 0, 100, shape=(1))\n",
    "    sigma_alpha = Uniform(b\"sigma_alpha\", .0, 10, testval=2.)\n",
    "    \n",
    "    mu_beta = Normal(b\"mu_beta\", 0, 100, shape=(1))\n",
    "    sigma_beta = Uniform(b\"sigma_beta\", 0, 10, testval=2.)\n",
    "    \n",
    "    alpha = Normal(b'alpha', mu=mu_alpha, tau=sigma_alpha, shape=(num_markets))\n",
    "    beta = Normal(b'beta', mu=mu_beta, tau=sigma_beta, shape=(num_markets, num_features))\n",
    "    \n",
    "    m = T.constant(market)\n",
    "    print(m)\n",
    "    p = tinvlogit(alpha[m] + sum(beta[m] * predictors, 1))\n",
    "    #p = tinvlogit(sum(beta[m] * predictors, 1))\n",
    "    \n",
    "    o = Bernoulli(b'o', p, observed=outcomes)"
   ]
  },
  {
   "cell_type": "code",
   "execution_count": null,
   "metadata": {
    "collapsed": false
   },
   "outputs": [],
   "source": [
    "with model:\n",
    "    mu, sds, elbo = variational.advi(n=10000)"
   ]
  },
  {
   "cell_type": "code",
   "execution_count": null,
   "metadata": {
    "collapsed": false
   },
   "outputs": [],
   "source": [
    "plt.plot(elbo[0:])"
   ]
  },
  {
   "cell_type": "code",
   "execution_count": null,
   "metadata": {
    "collapsed": false
   },
   "outputs": [],
   "source": [
    "mu"
   ]
  },
  {
   "cell_type": "code",
   "execution_count": null,
   "metadata": {
    "collapsed": false
   },
   "outputs": [],
   "source": [
    "sds"
   ]
  },
  {
   "cell_type": "code",
   "execution_count": null,
   "metadata": {
    "collapsed": false
   },
   "outputs": [],
   "source": [
    "with model:\n",
    "    # move the chain to the MAP which should be a good starting point\n",
    "    #start = find_MAP()\n",
    "    #step = NUTS(scaling=start)\n",
    "    #step = Slice()\n",
    "#     step = NUTS()\n",
    "#     trace = sample(3e4, step)\n",
    "    \n",
    "    step = NUTS(scaling=sds)\n",
    "    trace = sample(20000, step, start=mu)\n"
   ]
  },
  {
   "cell_type": "code",
   "execution_count": null,
   "metadata": {
    "collapsed": false
   },
   "outputs": [],
   "source": [
    "traceplot(trace)"
   ]
  },
  {
   "cell_type": "code",
   "execution_count": null,
   "metadata": {
    "collapsed": false
   },
   "outputs": [],
   "source": [
    "summary(trace)"
   ]
  },
  {
   "cell_type": "code",
   "execution_count": null,
   "metadata": {
    "collapsed": false
   },
   "outputs": [],
   "source": [
    "beta_a"
   ]
  },
  {
   "cell_type": "code",
   "execution_count": null,
   "metadata": {
    "collapsed": false
   },
   "outputs": [],
   "source": [
    "alpha_a"
   ]
  },
  {
   "cell_type": "code",
   "execution_count": null,
   "metadata": {
    "collapsed": false
   },
   "outputs": [],
   "source": [
    "forestplot(trace, varnames=['mu_alpha', 'mu_beta', 'alpha', 'sigma_alpha', 'sigma_beta'])"
   ]
  },
  {
   "cell_type": "code",
   "execution_count": null,
   "metadata": {
    "collapsed": true
   },
   "outputs": [],
   "source": []
  }
 ],
 "metadata": {
  "kernelspec": {
   "display_name": "Shiftgig",
   "language": "python",
   "name": "shiftgig"
  },
  "language_info": {
   "codemirror_mode": {
    "name": "ipython",
    "version": 2
   },
   "file_extension": ".py",
   "mimetype": "text/x-python",
   "name": "python",
   "nbconvert_exporter": "python",
   "pygments_lexer": "ipython2",
   "version": "2.7.10"
  }
 },
 "nbformat": 4,
 "nbformat_minor": 0
}
